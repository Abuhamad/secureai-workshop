{
  "cells": [
    {
      "cell_type": "markdown",
      "metadata": {
        "id": "G_u010PUHk3Z"
      },
      "source": [
        "## Gradient Inversion Attack"
      ]
    },
    {
      "cell_type": "code",
      "execution_count": null,
      "metadata": {
        "id": "wcUtStriHk3b"
      },
      "outputs": [],
      "source": [
        "%matplotlib inline\n",
        "\n",
        "import numpy as np\n",
        "from pprint import pprint\n",
        "\n",
        "from skimage import io\n",
        "from PIL import Image\n",
        "import matplotlib.pyplot as plt\n",
        "\n",
        "import torch\n",
        "import torch.nn as nn\n",
        "import torch.nn.functional as F\n",
        "from torch.autograd import grad\n",
        "import torchvision\n",
        "from torchvision import models, datasets, transforms\n",
        "\n"
      ]
    },
    {
      "cell_type": "markdown",
      "metadata": {
        "id": "vZOZx5NYHk3d"
      },
      "source": [
        "## Load the Dataset"
      ]
    },
    {
      "cell_type": "code",
      "execution_count": null,
      "metadata": {
        "colab": {
          "base_uri": "https://localhost:8080/"
        },
        "id": "HBprnEhgHk3d",
        "outputId": "a4ca913d-2257-4803-821e-7144274cd2d2"
      },
      "outputs": [
        {
          "output_type": "stream",
          "name": "stdout",
          "text": [
            "Downloading http://yann.lecun.com/exdb/mnist/train-images-idx3-ubyte.gz\n",
            "Failed to download (trying next):\n",
            "HTTP Error 403: Forbidden\n",
            "\n",
            "Downloading https://ossci-datasets.s3.amazonaws.com/mnist/train-images-idx3-ubyte.gz\n",
            "Downloading https://ossci-datasets.s3.amazonaws.com/mnist/train-images-idx3-ubyte.gz to /root/.torch/MNIST/raw/train-images-idx3-ubyte.gz\n"
          ]
        },
        {
          "output_type": "stream",
          "name": "stderr",
          "text": [
            "100%|██████████| 9912422/9912422 [00:03<00:00, 2530592.95it/s]\n"
          ]
        },
        {
          "output_type": "stream",
          "name": "stdout",
          "text": [
            "Extracting /root/.torch/MNIST/raw/train-images-idx3-ubyte.gz to /root/.torch/MNIST/raw\n",
            "\n",
            "Downloading http://yann.lecun.com/exdb/mnist/train-labels-idx1-ubyte.gz\n",
            "Failed to download (trying next):\n",
            "HTTP Error 403: Forbidden\n",
            "\n",
            "Downloading https://ossci-datasets.s3.amazonaws.com/mnist/train-labels-idx1-ubyte.gz\n",
            "Downloading https://ossci-datasets.s3.amazonaws.com/mnist/train-labels-idx1-ubyte.gz to /root/.torch/MNIST/raw/train-labels-idx1-ubyte.gz\n"
          ]
        },
        {
          "output_type": "stream",
          "name": "stderr",
          "text": [
            "100%|██████████| 28881/28881 [00:00<00:00, 232627.58it/s]\n"
          ]
        },
        {
          "output_type": "stream",
          "name": "stdout",
          "text": [
            "Extracting /root/.torch/MNIST/raw/train-labels-idx1-ubyte.gz to /root/.torch/MNIST/raw\n",
            "\n",
            "Downloading http://yann.lecun.com/exdb/mnist/t10k-images-idx3-ubyte.gz\n",
            "Failed to download (trying next):\n",
            "HTTP Error 403: Forbidden\n",
            "\n",
            "Downloading https://ossci-datasets.s3.amazonaws.com/mnist/t10k-images-idx3-ubyte.gz\n",
            "Downloading https://ossci-datasets.s3.amazonaws.com/mnist/t10k-images-idx3-ubyte.gz to /root/.torch/MNIST/raw/t10k-images-idx3-ubyte.gz\n"
          ]
        },
        {
          "output_type": "stream",
          "name": "stderr",
          "text": [
            "100%|██████████| 1648877/1648877 [00:00<00:00, 4307968.12it/s]\n"
          ]
        },
        {
          "output_type": "stream",
          "name": "stdout",
          "text": [
            "Extracting /root/.torch/MNIST/raw/t10k-images-idx3-ubyte.gz to /root/.torch/MNIST/raw\n",
            "\n",
            "Downloading http://yann.lecun.com/exdb/mnist/t10k-labels-idx1-ubyte.gz\n",
            "Failed to download (trying next):\n",
            "HTTP Error 403: Forbidden\n",
            "\n",
            "Downloading https://ossci-datasets.s3.amazonaws.com/mnist/t10k-labels-idx1-ubyte.gz\n",
            "Downloading https://ossci-datasets.s3.amazonaws.com/mnist/t10k-labels-idx1-ubyte.gz to /root/.torch/MNIST/raw/t10k-labels-idx1-ubyte.gz\n"
          ]
        },
        {
          "output_type": "stream",
          "name": "stderr",
          "text": [
            "100%|██████████| 4542/4542 [00:00<00:00, 2583823.24it/s]"
          ]
        },
        {
          "output_type": "stream",
          "name": "stdout",
          "text": [
            "Extracting /root/.torch/MNIST/raw/t10k-labels-idx1-ubyte.gz to /root/.torch/MNIST/raw\n",
            "\n"
          ]
        },
        {
          "output_type": "stream",
          "name": "stderr",
          "text": [
            "\n"
          ]
        }
      ],
      "source": [
        "dst = datasets.MNIST(\"~/.torch\", download=True)\n",
        "tp = transforms.Compose([\n",
        "    transforms.Resize(28),\n",
        "    transforms.CenterCrop(28),\n",
        "    transforms.ToTensor()\n",
        "])\n",
        "tt = transforms.ToPILImage()"
      ]
    },
    {
      "cell_type": "markdown",
      "metadata": {
        "id": "R_53DTGLHk3e"
      },
      "source": [
        "## Loss Function"
      ]
    },
    {
      "cell_type": "code",
      "execution_count": null,
      "metadata": {
        "id": "BLfvnjCxHk3e"
      },
      "outputs": [],
      "source": [
        "def cross_entropy_for_onehot(pred, target):\n",
        "    return torch.mean(torch.sum(- target * F.log_softmax(pred, dim=-1), 1))\n",
        "\n",
        "def label_to_onehot(target, num_classes=10):\n",
        "    target = torch.unsqueeze(target, 1)\n",
        "    onehot_target = torch.zeros(target.size(0), num_classes, device=target.device)\n",
        "    onehot_target.scatter_(1, target, 1)\n",
        "    return onehot_target\n",
        "\n",
        "criterion = cross_entropy_for_onehot\n",
        "if torch.cuda.is_available():\n",
        "  device = \"cuda\"\n",
        "else:\n",
        "  device = \"cpu\""
      ]
    },
    {
      "cell_type": "markdown",
      "metadata": {
        "id": "LsfgNGuuHk3e"
      },
      "source": [
        "### Neural Network Model"
      ]
    },
    {
      "cell_type": "code",
      "execution_count": null,
      "metadata": {
        "id": "vCCmfVS7Hk3f"
      },
      "outputs": [],
      "source": [
        "class LeNet_5(nn.Module):\n",
        "    def __init__(self, in_dims, in_channels, num_classes=10):\n",
        "        super(LeNet_5, self).__init__()\n",
        "        self.in_channels = in_channels\n",
        "        self.input_size = int(np.sqrt(in_dims/in_channels))\n",
        "        self.fc_input_size = int(self.input_size/4)**2 * 64\n",
        "\n",
        "        self.conv1 = nn.Conv2d(self.in_channels, 32, kernel_size=5, padding=2)\n",
        "        self.mp1= nn.MaxPool2d(kernel_size=2, stride=2)\n",
        "\n",
        "        self.conv2 = nn.Conv2d(32, 64, kernel_size=5, padding=2)\n",
        "        self.mp2= nn.MaxPool2d(kernel_size=2, stride=2)\n",
        "\n",
        "        self.fc1 = nn.Linear(self.fc_input_size, 512, bias=False)\n",
        "        self.fc2 = nn.Linear(512, num_classes, bias=False)\n",
        "\n",
        "    # 32C3 - MP2 - 64C3 - Mp2 - 512FC - SM10c\n",
        "    def forward(self, x):\n",
        "        x = F.relu(self.conv1(x))\n",
        "        x = self.mp1(x)\n",
        "\n",
        "        x = F.relu(self.conv2(x))\n",
        "        x = self.mp2(x)\n",
        "\n",
        "        feature = x.view(x.shape[0], -1)\n",
        "        x = F.relu(self.fc1(feature))\n",
        "        x = self.fc2(x)\n",
        "\n",
        "        return x\n",
        "\n",
        "\n",
        "model = LeNet_5(28*28, 1).to(device)"
      ]
    },
    {
      "cell_type": "markdown",
      "metadata": {
        "id": "3YvAsRQXHk3f"
      },
      "source": [
        "### Gradient Calculation on One Client (with One Sample)"
      ]
    },
    {
      "cell_type": "code",
      "execution_count": null,
      "metadata": {
        "colab": {
          "base_uri": "https://localhost:8080/",
          "height": 505
        },
        "id": "aRnt-g-wHk3f",
        "outputId": "f498d6c4-0dd3-4b3d-99e3-448e01178884"
      },
      "outputs": [
        {
          "output_type": "execute_result",
          "data": {
            "text/plain": [
              "<matplotlib.image.AxesImage at 0x78426b7f6440>"
            ]
          },
          "metadata": {},
          "execution_count": 15
        },
        {
          "output_type": "display_data",
          "data": {
            "text/plain": [
              "<Figure size 640x480 with 1 Axes>"
            ],
            "image/png": "[encoded data removed]"
          },
          "metadata": {}
        }
      ],
      "source": [
        "index = 1\n",
        "label = 0\n",
        "input_data = tp(dst[index][0]).to(device)\n",
        "input_data = input_data.view(1, 1, 28, 28)\n",
        "input_label = torch.Tensor([dst[index][1]]).long().to(device)\n",
        "gt_onehot_label = label_to_onehot(input_label)\n",
        "\n",
        "img = input_data[0].cpu().reshape(28, 28)\n",
        "io.imshow(img.numpy())"
      ]
    },
    {
      "cell_type": "markdown",
      "metadata": {
        "id": "gQ1Jx-NuHk3g"
      },
      "source": [
        "### Client Calculates Gradient"
      ]
    },
    {
      "cell_type": "code",
      "execution_count": null,
      "metadata": {
        "id": "-BSvQ6WRHk3g"
      },
      "outputs": [],
      "source": [
        "out = model(input_data)\n",
        "y = criterion(out, gt_onehot_label)\n",
        "dy_dx = torch.autograd.grad(y, model.parameters())\n",
        "\n",
        "grad = list((_.detach().clone() for _ in dy_dx))"
      ]
    },
    {
      "cell_type": "markdown",
      "metadata": {
        "id": "exIWXj_oHk3g"
      },
      "source": [
        "### Honest-but-curious Server"
      ]
    },
    {
      "cell_type": "code",
      "execution_count": null,
      "metadata": {
        "colab": {
          "base_uri": "https://localhost:8080/",
          "height": 505
        },
        "id": "qVq3I0AtHk3g",
        "outputId": "18c049fe-5e36-48c3-82c1-fd0bb3d3a184"
      },
      "outputs": [
        {
          "output_type": "execute_result",
          "data": {
            "text/plain": [
              "<matplotlib.image.AxesImage at 0x78426b8f2590>"
            ]
          },
          "metadata": {},
          "execution_count": 17
        },
        {
          "output_type": "display_data",
          "data": {
            "text/plain": [
              "<Figure size 640x480 with 2 Axes>"
            ],
            "image/png": "[encoded data removed]"
          },
          "metadata": {}
        }
      ],
      "source": [
        "dummy_data = torch.randn(input_data.size()).to(device).requires_grad_(True)\n",
        "\n",
        "dummy_data_img = dummy_data.detach().cpu().numpy().reshape(28,28)\n",
        "io.imshow(dummy_data_img)\n",
        "\n"
      ]
    },
    {
      "cell_type": "markdown",
      "metadata": {
        "id": "FZe5FxzHHk3g"
      },
      "source": [
        "### Server: Match Gradient"
      ]
    },
    {
      "cell_type": "code",
      "execution_count": null,
      "metadata": {
        "colab": {
          "base_uri": "https://localhost:8080/"
        },
        "id": "k2Bvng5mHk3g",
        "outputId": "804a72d9-fba4-4f5f-ee83-9abfd325339b"
      },
      "outputs": [
        {
          "output_type": "stream",
          "name": "stdout",
          "text": [
            "0 0.2140\n",
            "1 0.1205\n",
            "2 0.0549\n",
            "3 0.0270\n",
            "4 0.0110\n",
            "5 0.0277\n",
            "6 0.0280\n",
            "7 0.0280\n"
          ]
        }
      ],
      "source": [
        "optimizer = torch.optim.LBFGS([dummy_data])\n",
        "# optimizer = torch.optim.Adam([dummy_data])\n",
        "\n",
        "history = []\n",
        "for iters in range(8):\n",
        "    history.append(dummy_data[0].cpu())\n",
        "    def closure():\n",
        "        optimizer.zero_grad()\n",
        "\n",
        "        pred = model(dummy_data)\n",
        "        # dummy_onehot_label = F.softmax(model, dim=-1)\n",
        "        onehot_label = label_to_onehot(torch.Tensor([label]).long().to(device), num_classes=10)\n",
        "        dummy_loss = criterion(pred, onehot_label)\n",
        "        dummy_grad = torch.autograd.grad(dummy_loss, model.parameters(), create_graph=True)\n",
        "\n",
        "        grad_diff = 0\n",
        "        grad_count = 0\n",
        "        for gx, gy in zip(dummy_grad, grad):\n",
        "            grad_diff += ((gx - gy) ** 2).sum()\n",
        "            grad_count += gx.nelement()\n",
        "\n",
        "        # grad_diff = grad_diff / grad_count * 1000\n",
        "        grad_diff.backward()\n",
        "\n",
        "        return grad_diff\n",
        "\n",
        "    optimizer.step(closure)\n",
        "\n",
        "    if iters % 1 == 0:\n",
        "        current_loss = closure()\n",
        "        print(iters, \"%.4f\" % current_loss.item())\n",
        "\n",
        "\n",
        "\n"
      ]
    },
    {
      "cell_type": "code",
      "execution_count": null,
      "metadata": {
        "colab": {
          "base_uri": "https://localhost:8080/",
          "height": 505
        },
        "id": "zaBaU98QHk3h",
        "outputId": "0f040857-a3cb-4033-98b8-e4b1a35534d7"
      },
      "outputs": [
        {
          "output_type": "execute_result",
          "data": {
            "text/plain": [
              "<matplotlib.image.AxesImage at 0x78426b28dd20>"
            ]
          },
          "metadata": {},
          "execution_count": 19
        },
        {
          "output_type": "display_data",
          "data": {
            "text/plain": [
              "<Figure size 640x480 with 1 Axes>"
            ],
            "image/png": "[encoded data removed]"
          },
          "metadata": {}
        }
      ],
      "source": [
        "iter_idx = 2\n",
        "dummy_img = history[iter_idx].detach().cpu().numpy().reshape(28,28)\n",
        "dummy_img = (dummy_img - dummy_img.min())/(dummy_img.max() - dummy_img.min())\n",
        "io.imshow(dummy_img)"
      ]
    },
    {
      "cell_type": "markdown",
      "metadata": {
        "id": "uvGjeaBHHk3h"
      },
      "source": [
        "### Add noise to the client gradient"
      ]
    },
    {
      "cell_type": "code",
      "execution_count": null,
      "metadata": {
        "colab": {
          "base_uri": "https://localhost:8080/",
          "height": 1000
        },
        "id": "sjTBRSJCHk3h",
        "outputId": "69aeba5e-7aaf-4ab2-8536-d0d59dfe5001"
      },
      "outputs": [
        {
          "output_type": "stream",
          "name": "stdout",
          "text": [
            "0 4158.9058\n",
            "1 4158.9082\n",
            "2 4158.3687\n",
            "3 4158.1670\n",
            "4 4158.2354\n",
            "5 4158.2261\n",
            "6 4158.2231\n",
            "7 4158.2666\n"
          ]
        },
        {
          "output_type": "execute_result",
          "data": {
            "text/plain": [
              "<matplotlib.image.AxesImage at 0x78426b205120>"
            ]
          },
          "metadata": {},
          "execution_count": 20
        },
        {
          "output_type": "display_data",
          "data": {
            "text/plain": [
              "<Figure size 640x480 with 1 Axes>"
            ],
            "image/png": "[encoded data removed]"
          },
          "metadata": {}
        },
        {
          "output_type": "display_data",
          "data": {
            "text/plain": [
              "<Figure size 640x480 with 2 Axes>"
            ],
            "image/png": "[encoded data removed]"
          },
          "metadata": {}
        }
      ],
      "source": [
        "noisy_grad = []\n",
        "\n",
        "for i, g in enumerate(grad):\n",
        "    noisy_grad.append(g + 0.05*torch.randn_like(g))\n",
        "\n",
        "dummy_data = torch.randn(input_data.size()).to(device).requires_grad_(True)\n",
        "\n",
        "\n",
        "optimizer = torch.optim.LBFGS([dummy_data])\n",
        "# optimizer = torch.optim.Adam([dummy_data])\n",
        "\n",
        "history = []\n",
        "for iters in range(8):\n",
        "    history.append(dummy_data[0].cpu())\n",
        "    def closure():\n",
        "        optimizer.zero_grad()\n",
        "\n",
        "        pred = model(dummy_data)\n",
        "        # dummy_onehot_label = F.softmax(model, dim=-1)\n",
        "        onehot_label = label_to_onehot(torch.Tensor([label]).long().to(device), num_classes=10)\n",
        "        dummy_loss = criterion(pred, onehot_label)\n",
        "        dummy_grad = torch.autograd.grad(dummy_loss, model.parameters(), create_graph=True)\n",
        "\n",
        "        grad_diff = 0\n",
        "        grad_count = 0\n",
        "\n",
        "        # now matching the noisy gradients\n",
        "        for gx, gy in zip(dummy_grad, noisy_grad):\n",
        "            grad_diff += ((gx - gy) ** 2).sum()\n",
        "            grad_count += gx.nelement()\n",
        "\n",
        "        # grad_diff = grad_diff / grad_count * 1000\n",
        "        grad_diff.backward()\n",
        "\n",
        "        return grad_diff\n",
        "\n",
        "    optimizer.step(closure)\n",
        "\n",
        "    if iters % 1 == 0:\n",
        "        current_loss = closure()\n",
        "        print(iters, \"%.4f\" % current_loss.item())\n",
        "\n",
        "iter_idx = -1\n",
        "dummy_img = history[iter_idx].detach().cpu().numpy().reshape(28,28)\n",
        "dummy_img = (dummy_img - dummy_img.min())/(dummy_img.max() - dummy_img.min())\n",
        "io.imshow(dummy_img)\n",
        "\n",
        "plt.figure(2)\n",
        "io.imshow(history[iter_idx].detach().cpu().numpy().reshape(28,28))"
      ]
    }
  ],
  "metadata": {
    "kernelspec": {
      "display_name": "Python 3",
      "language": "python",
      "name": "python3"
    },
    "language_info": {
      "codemirror_mode": {
        "name": "ipython",
        "version": 3
      },
      "file_extension": ".py",
      "mimetype": "text/x-python",
      "name": "python",
      "nbconvert_exporter": "python",
      "pygments_lexer": "ipython3",
      "version": "3.10.12"
    },
    "colab": {
      "provenance": []
    }
  },
  "nbformat": 4,
  "nbformat_minor": 0
}